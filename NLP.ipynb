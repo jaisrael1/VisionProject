{
 "cells": [
  {
   "cell_type": "code",
   "execution_count": 1,
   "metadata": {},
   "outputs": [
    {
     "name": "stderr",
     "output_type": "stream",
     "text": [
      "[nltk_data] Downloading package wordnet to\n",
      "[nltk_data]     /Users/jakeisrael/nltk_data...\n",
      "[nltk_data]   Package wordnet is already up-to-date!\n",
      "[nltk_data] Downloading package omw-1.4 to\n",
      "[nltk_data]     /Users/jakeisrael/nltk_data...\n",
      "[nltk_data]   Package omw-1.4 is already up-to-date!\n"
     ]
    }
   ],
   "source": [
    "import pandas as pd\n",
    "import numpy as np\n",
    "import nltk\n",
    "nltk.download('wordnet')\n",
    "nltk.download('omw-1.4')\n",
    "import re\n",
    "import contractions"
   ]
  },
  {
   "cell_type": "markdown",
   "metadata": {},
   "source": [
    "## Read Data Keeping only Reviews and Ratings"
   ]
  },
  {
   "cell_type": "code",
   "execution_count": 3,
   "metadata": {},
   "outputs": [
    {
     "name": "stderr",
     "output_type": "stream",
     "text": [
      "/var/folders/lq/4hmnn50j29xcqb6c_vk261g00000gn/T/ipykernel_21141/613928761.py:2: DtypeWarning: Columns (7) have mixed types. Specify dtype option on import or set low_memory=False.\n",
      "  input = pd.read_csv(\"data.tsv\", sep='\\t', usecols = ['star_rating','review_body'])\n"
     ]
    }
   ],
   "source": [
    "# Read data, keeping only the star_rating and review_body columns\n",
    "input = pd.read_csv(\"data.tsv\", sep='\\t', usecols = ['star_rating','review_body'])\n",
    "\n",
    "# Drop rows with null values\n",
    "input = input.dropna()\n",
    "\n",
    "# Cast ratings to int\n",
    "input[\"star_rating\"] = input[\"star_rating\"].astype(int)"
   ]
  },
  {
   "cell_type": "markdown",
   "metadata": {},
   "source": [
    " ## We select 20000 reviews randomly from each rating class.\n",
    "\n"
   ]
  },
  {
   "cell_type": "code",
   "execution_count": 4,
   "metadata": {},
   "outputs": [],
   "source": [
    "n = 20000\n",
    "\n",
    "onestar = input[input[\"star_rating\"] == 1].sample(n)\n",
    "twostar = input[input[\"star_rating\"] == 2].sample(n)\n",
    "threestar = input[input[\"star_rating\"] == 3].sample(n)\n",
    "fourstar = input[input[\"star_rating\"] == 4].sample(n)\n",
    "fivestar = input[input[\"star_rating\"] == 5].sample(n)\n",
    "\n",
    "df = pd.concat([onestar, twostar, threestar, fourstar, fivestar]).sample(frac=1)"
   ]
  },
  {
   "cell_type": "markdown",
   "metadata": {},
   "source": [
    "# Data Cleaning\n",
    "\n"
   ]
  },
  {
   "cell_type": "code",
   "execution_count": 5,
   "metadata": {},
   "outputs": [],
   "source": [
    "preCleaningAvgLength = df['review_body'].str.len().mean()\n",
    "\n",
    "# Lowercase all reviews\n",
    "df[\"review_body\"] = df[\"review_body\"].str.lower()\n",
    "\n",
    "# Remove html tags\n",
    "def remove_html(s):\n",
    "    res = re.sub('<.*?>','',s)\n",
    "    return res\n",
    "\n",
    "df[\"review_body\"] = df[\"review_body\"].apply(lambda s : remove_html(s))\n",
    "\n",
    "# Remove URLs\n",
    "def remove_urls(s):\n",
    "    res = re.sub(r'(https|http)?:\\/\\/(\\w|\\.|\\/|\\?|\\=|\\&|\\%)*\\b', '', s, flags=re.MULTILINE)\n",
    "    return res\n",
    "\n",
    "\n",
    "df[\"review_body\"] = df[\"review_body\"].apply(lambda s : remove_urls(s))\n",
    "\n",
    "# Expand contractions\n",
    "df[\"review_body\"] = df[\"review_body\"].apply(lambda s : contractions.fix(s))\n",
    "\n",
    "# Remove all nonalphabetic characters\n",
    "def remove_nonalpha(s):\n",
    "    res = re.sub('[^a-zA-Z ]+', '', s)\n",
    "    return res\n",
    "\n",
    "df[\"review_body\"] = df[\"review_body\"].apply(lambda s : remove_nonalpha(s))\n",
    "\n",
    "# Strip out extra whitespace\n",
    "df[\"review_body\"] = df[\"review_body\"].apply(lambda s : s.strip())"
   ]
  },
  {
   "cell_type": "code",
   "execution_count": 20,
   "metadata": {},
   "outputs": [
    {
     "name": "stdout",
     "output_type": "stream",
     "text": [
      "189.7216,108.8351\n"
     ]
    }
   ],
   "source": [
    "postCleaningAvgLength = df['review_body'].str.len().mean()\n",
    "print(preCleaningAvgLength, postCleaningAvgLength, sep=',')"
   ]
  },
  {
   "cell_type": "markdown",
   "metadata": {},
   "source": [
    "# Pre-processing"
   ]
  },
  {
   "cell_type": "markdown",
   "metadata": {},
   "source": [
    "## remove the stop words "
   ]
  },
  {
   "cell_type": "code",
   "execution_count": 8,
   "metadata": {},
   "outputs": [],
   "source": [
    "from nltk.corpus import stopwords \n",
    "stop_words = stopwords.words('english')\n",
    "\n",
    "# Remove stopwords\n",
    "df['review_body'] = df['review_body'].apply(lambda s : ' '.join([word for word in s.split() if word not in stop_words]))"
   ]
  },
  {
   "cell_type": "markdown",
   "metadata": {},
   "source": [
    "## perform lemmatization  "
   ]
  },
  {
   "cell_type": "code",
   "execution_count": 9,
   "metadata": {},
   "outputs": [
    {
     "name": "stdout",
     "output_type": "stream",
     "text": [
      "183.50953 108.8351\n"
     ]
    }
   ],
   "source": [
    "from nltk.stem import WordNetLemmatizer\n",
    "lemmatizer = WordNetLemmatizer()\n",
    "from nltk.tokenize import WhitespaceTokenizer\n",
    "tokenizer = WhitespaceTokenizer()\n",
    "\n",
    "def lemmatize_string(s):\n",
    "    return ' '.join([lemmatizer.lemmatize(word) for word in tokenizer.tokenize(s)])\n",
    "\n",
    "# Perform lemmatization on review words\n",
    "df['review_body'] = df['review_body'].apply(lambda s : lemmatize_string(s))\n",
    "\n",
    "postProcessingAvgLength = df['review_body'].str.len().mean()\n",
    "print(postCleaningAvgLength, postProcessingAvgLength, sep=',')\n"
   ]
  },
  {
   "cell_type": "code",
   "execution_count": null,
   "metadata": {},
   "outputs": [],
   "source": [
    "# TF-IDF Feature Extraction"
   ]
  },
  {
   "cell_type": "code",
   "execution_count": null,
   "metadata": {},
   "outputs": [],
   "source": [
    "from sklearn.feature_extraction.text import TfidfVectorizer\n",
    "from sklearn.model_selection import train_test_split\n",
    "vectorizer = TfidfVectorizer()\n",
    "\n",
    "# Extract TF-IDF weights\n",
    "weights = vectorizer.fit_transform(df[\"review_body\"])\n",
    "\n",
    "train_x, test_x, train_y, test_y = train_test_split(weights, df[\"star_rating\"], test_size=0.2, random_state=1)"
   ]
  },
  {
   "cell_type": "markdown",
   "metadata": {},
   "source": [
    "# Perceptron"
   ]
  },
  {
   "cell_type": "code",
   "execution_count": null,
   "metadata": {},
   "outputs": [],
   "source": [
    "from sklearn.linear_model import Perceptron\n",
    "from sklearn.metrics import accuracy_score\n",
    "from sklearn.metrics import precision_recall_fscore_support\n",
    "\n",
    "p = Perceptron()\n",
    "p.fit(train_x, train_y)"
   ]
  },
  {
   "cell_type": "code",
   "execution_count": null,
   "metadata": {},
   "outputs": [],
   "source": [
    "test_predictions = p.predict(test_x)\n",
    "\n",
    "stats = precision_recall_fscore_support(test_y, test_predictions)\n",
    "\n",
    "precision = stats[0]\n",
    "recall = stats[1]\n",
    "fscore = stats[2]\n",
    "\n",
    "for i in range(5):\n",
    "    print(precision[i], \",\", recall[i], \",\", fscore[i], sep='')\n",
    "print(np.average(precision), \",\" , np.average(recall), \",\" , np.average(fscore), sep='')"
   ]
  },
  {
   "cell_type": "markdown",
   "metadata": {},
   "source": [
    "# SVM"
   ]
  },
  {
   "cell_type": "code",
   "execution_count": null,
   "metadata": {},
   "outputs": [],
   "source": [
    "from sklearn.svm import LinearSVC\n",
    "svm = LinearSVC()\n",
    "svm.fit(train_x, train_y)"
   ]
  },
  {
   "cell_type": "code",
   "execution_count": null,
   "metadata": {},
   "outputs": [],
   "source": [
    "test_predictions = svm.predict(test_x)\n",
    "\n",
    "stats = precision_recall_fscore_support(test_y, test_predictions)\n",
    "\n",
    "precision = stats[0]\n",
    "recall = stats[1]\n",
    "fscore = stats[2]\n",
    "\n",
    "for i in range(5):\n",
    "    print(precision[i], \",\", recall[i], \",\", fscore[i], sep='')\n",
    "print(np.average(precision), \",\" , np.average(recall), \",\" , np.average(fscore), sep='')"
   ]
  },
  {
   "cell_type": "markdown",
   "metadata": {},
   "source": [
    "# Logistic Regression"
   ]
  },
  {
   "cell_type": "code",
   "execution_count": null,
   "metadata": {},
   "outputs": [],
   "source": [
    "from sklearn.linear_model import LogisticRegression\n",
    "log = LogisticRegression(max_iter=1000000).fit(train_x, train_y)"
   ]
  },
  {
   "cell_type": "code",
   "execution_count": null,
   "metadata": {},
   "outputs": [],
   "source": [
    "test_predictions = log.predict(test_x)\n",
    "\n",
    "stats = precision_recall_fscore_support(test_y, test_predictions)\n",
    "\n",
    "precision = stats[0]\n",
    "recall = stats[1]\n",
    "fscore = stats[2]\n",
    "\n",
    "for i in range(5):\n",
    "    print(precision[i], \",\", recall[i], \",\", fscore[i], sep='')\n",
    "print(np.average(precision), \",\" , np.average(recall), \",\" , np.average(fscore), sep='')"
   ]
  },
  {
   "cell_type": "markdown",
   "metadata": {},
   "source": [
    "# Naive Bayes"
   ]
  },
  {
   "cell_type": "code",
   "execution_count": null,
   "metadata": {},
   "outputs": [],
   "source": [
    "from sklearn.naive_bayes import MultinomialNB\n",
    "bayes = MultinomialNB().fit(train_x, train_y)"
   ]
  },
  {
   "cell_type": "code",
   "execution_count": null,
   "metadata": {},
   "outputs": [],
   "source": [
    "test_predictions = bayes.predict(test_x)\n",
    "\n",
    "stats = precision_recall_fscore_support(test_y, test_predictions)\n",
    "\n",
    "precision = stats[0]\n",
    "recall = stats[1]\n",
    "fscore = stats[2]\n",
    "\n",
    "for i in range(5):\n",
    "    print(precision[i], \",\", recall[i], \",\", fscore[i], sep='')\n",
    "print(np.average(precision), \",\" , np.average(recall), \",\" , np.average(fscore), sep='')"
   ]
  }
 ],
 "metadata": {
  "interpreter": {
   "hash": "a1c187762543b7b51aa9f108e7f8545cb0c5a4f42c9141b7d72049c956d6c53f"
  },
  "kernelspec": {
   "display_name": "Python 3.8.12 64-bit ('3.8.12')",
   "language": "python",
   "name": "python3"
  },
  "language_info": {
   "codemirror_mode": {
    "name": "ipython",
    "version": 3
   },
   "file_extension": ".py",
   "mimetype": "text/x-python",
   "name": "python",
   "nbconvert_exporter": "python",
   "pygments_lexer": "ipython3",
   "version": "3.8.12"
  }
 },
 "nbformat": 4,
 "nbformat_minor": 4
}
