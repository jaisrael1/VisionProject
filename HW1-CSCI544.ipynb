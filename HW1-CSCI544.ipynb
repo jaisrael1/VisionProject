{
 "cells": [
  {
   "cell_type": "code",
   "execution_count": 1,
   "metadata": {},
   "outputs": [
    {
     "name": "stderr",
     "output_type": "stream",
     "text": [
      "[nltk_data] Downloading package wordnet to\n",
      "[nltk_data]     /Users/jakeisrael/nltk_data...\n",
      "[nltk_data]   Package wordnet is already up-to-date!\n",
      "[nltk_data] Downloading package omw-1.4 to\n",
      "[nltk_data]     /Users/jakeisrael/nltk_data...\n",
      "[nltk_data]   Package omw-1.4 is already up-to-date!\n"
     ]
    }
   ],
   "source": [
    "import pandas as pd\n",
    "import numpy as np\n",
    "import nltk\n",
    "nltk.download('wordnet')\n",
    "nltk.download('omw-1.4')\n",
    "import re\n",
    "import contractions"
   ]
  },
  {
   "cell_type": "markdown",
   "metadata": {},
   "source": [
    "## Read Data Keeping only Reviews and Ratings"
   ]
  },
  {
   "cell_type": "code",
   "execution_count": 3,
   "metadata": {},
   "outputs": [
    {
     "name": "stderr",
     "output_type": "stream",
     "text": [
      "/var/folders/lq/4hmnn50j29xcqb6c_vk261g00000gn/T/ipykernel_21141/613928761.py:2: DtypeWarning: Columns (7) have mixed types. Specify dtype option on import or set low_memory=False.\n",
      "  input = pd.read_csv(\"data.tsv\", sep='\\t', usecols = ['star_rating','review_body'])\n"
     ]
    }
   ],
   "source": [
    "# Read data, keeping only the star_rating and review_body columns\n",
    "input = pd.read_csv(\"data.tsv\", sep='\\t', usecols = ['star_rating','review_body'])\n",
    "\n",
    "# Drop rows with null values\n",
    "input = input.dropna()\n",
    "\n",
    "# Cast ratings to int\n",
    "input[\"star_rating\"] = input[\"star_rating\"].astype(int)"
   ]
  },
  {
   "cell_type": "markdown",
   "metadata": {},
   "source": [
    " ## We select 20000 reviews randomly from each rating class.\n",
    "\n"
   ]
  },
  {
   "cell_type": "code",
   "execution_count": 4,
   "metadata": {},
   "outputs": [],
   "source": [
    "n = 20000\n",
    "\n",
    "onestar = input[input[\"star_rating\"] == 1].sample(n)\n",
    "twostar = input[input[\"star_rating\"] == 2].sample(n)\n",
    "threestar = input[input[\"star_rating\"] == 3].sample(n)\n",
    "fourstar = input[input[\"star_rating\"] == 4].sample(n)\n",
    "fivestar = input[input[\"star_rating\"] == 5].sample(n)\n",
    "\n",
    "df = pd.concat([onestar, twostar, threestar, fourstar, fivestar]).sample(frac=1)"
   ]
  },
  {
   "cell_type": "markdown",
   "metadata": {},
   "source": [
    "# Data Cleaning\n",
    "\n"
   ]
  },
  {
   "cell_type": "code",
   "execution_count": 5,
   "metadata": {},
   "outputs": [],
   "source": [
    "preCleaningAvgLength = df['review_body'].str.len().mean()\n",
    "\n",
    "# Lowercase all reviews\n",
    "df[\"review_body\"] = df[\"review_body\"].str.lower()\n",
    "\n",
    "# Remove html tags\n",
    "def remove_html(s):\n",
    "    res = re.sub('<.*?>','',s)\n",
    "    return res\n",
    "\n",
    "df[\"review_body\"] = df[\"review_body\"].apply(lambda s : remove_html(s))\n",
    "\n",
    "# Remove URLs\n",
    "def remove_urls(s):\n",
    "    res = re.sub(r'(https|http)?:\\/\\/(\\w|\\.|\\/|\\?|\\=|\\&|\\%)*\\b', '', s, flags=re.MULTILINE)\n",
    "    return res\n",
    "\n",
    "\n",
    "df[\"review_body\"] = df[\"review_body\"].apply(lambda s : remove_urls(s))\n",
    "\n",
    "# Expand contractions\n",
    "df[\"review_body\"] = df[\"review_body\"].apply(lambda s : contractions.fix(s))\n",
    "\n",
    "# Remove all nonalphabetic characters\n",
    "def remove_nonalpha(s):\n",
    "    res = re.sub('[^a-zA-Z ]+', '', s)\n",
    "    return res\n",
    "\n",
    "df[\"review_body\"] = df[\"review_body\"].apply(lambda s : remove_nonalpha(s))\n",
    "\n",
    "# Strip out extra whitespace\n",
    "df[\"review_body\"] = df[\"review_body\"].apply(lambda s : s.strip())"
   ]
  },
  {
   "cell_type": "code",
   "execution_count": 20,
   "metadata": {},
   "outputs": [
    {
     "name": "stdout",
     "output_type": "stream",
     "text": [
      "189.7216,108.8351\n"
     ]
    }
   ],
   "source": [
    "postCleaningAvgLength = df['review_body'].str.len().mean()\n",
    "print(preCleaningAvgLength, postCleaningAvgLength, sep=',')"
   ]
  },
  {
   "cell_type": "markdown",
   "metadata": {},
   "source": [
    "# Pre-processing"
   ]
  },
  {
   "cell_type": "markdown",
   "metadata": {},
   "source": [
    "## remove the stop words "
   ]
  },
  {
   "cell_type": "code",
   "execution_count": 8,
   "metadata": {},
   "outputs": [],
   "source": [
    "from nltk.corpus import stopwords \n",
    "stop_words = stopwords.words('english')\n",
    "\n",
    "# Remove stopwords\n",
    "df['review_body'] = df['review_body'].apply(lambda s : ' '.join([word for word in s.split() if word not in stop_words]))"
   ]
  },
  {
   "cell_type": "markdown",
   "metadata": {},
   "source": [
    "## perform lemmatization  "
   ]
  },
  {
   "cell_type": "code",
   "execution_count": 9,
   "metadata": {},
   "outputs": [
    {
     "name": "stdout",
     "output_type": "stream",
     "text": [
      "183.50953 108.8351\n"
     ]
    }
   ],
   "source": [
    "from nltk.stem import WordNetLemmatizer\n",
    "lemmatizer = WordNetLemmatizer()\n",
    "from nltk.tokenize import WhitespaceTokenizer\n",
    "tokenizer = WhitespaceTokenizer()\n",
    "\n",
    "def lemmatize_string(s):\n",
    "    return ' '.join([lemmatizer.lemmatize(word) for word in tokenizer.tokenize(s)])\n",
    "\n",
    "# Perform lemmatization on review words\n",
    "df['review_body'] = df['review_body'].apply(lambda s : lemmatize_string(s))\n",
    "\n",
    "postProcessingAvgLength = df['review_body'].str.len().mean()\n",
    "print(postCleaningAvgLength, postProcessingAvgLength, sep=',')\n"
   ]
  },
  {
   "cell_type": "markdown",
   "metadata": {},
   "source": [
    "# TF-IDF Feature Extraction"
   ]
  },
  {
   "cell_type": "code",
   "execution_count": 10,
   "metadata": {},
   "outputs": [],
   "source": [
    "from sklearn.feature_extraction.text import TfidfVectorizer\n",
    "from sklearn.model_selection import train_test_split\n",
    "vectorizer = TfidfVectorizer()\n",
    "\n",
    "# Extract TF-IDF weights\n",
    "weights = vectorizer.fit_transform(df[\"review_body\"])\n",
    "\n",
    "train_x, test_x, train_y, test_y = train_test_split(weights, df[\"star_rating\"], test_size=0.2, random_state=1)"
   ]
  },
  {
   "cell_type": "markdown",
   "metadata": {},
   "source": [
    "# Perceptron"
   ]
  },
  {
   "cell_type": "code",
   "execution_count": 11,
   "metadata": {},
   "outputs": [
    {
     "data": {
      "text/html": [
       "<style>#sk-container-id-1 {color: black;background-color: white;}#sk-container-id-1 pre{padding: 0;}#sk-container-id-1 div.sk-toggleable {background-color: white;}#sk-container-id-1 label.sk-toggleable__label {cursor: pointer;display: block;width: 100%;margin-bottom: 0;padding: 0.3em;box-sizing: border-box;text-align: center;}#sk-container-id-1 label.sk-toggleable__label-arrow:before {content: \"▸\";float: left;margin-right: 0.25em;color: #696969;}#sk-container-id-1 label.sk-toggleable__label-arrow:hover:before {color: black;}#sk-container-id-1 div.sk-estimator:hover label.sk-toggleable__label-arrow:before {color: black;}#sk-container-id-1 div.sk-toggleable__content {max-height: 0;max-width: 0;overflow: hidden;text-align: left;background-color: #f0f8ff;}#sk-container-id-1 div.sk-toggleable__content pre {margin: 0.2em;color: black;border-radius: 0.25em;background-color: #f0f8ff;}#sk-container-id-1 input.sk-toggleable__control:checked~div.sk-toggleable__content {max-height: 200px;max-width: 100%;overflow: auto;}#sk-container-id-1 input.sk-toggleable__control:checked~label.sk-toggleable__label-arrow:before {content: \"▾\";}#sk-container-id-1 div.sk-estimator input.sk-toggleable__control:checked~label.sk-toggleable__label {background-color: #d4ebff;}#sk-container-id-1 div.sk-label input.sk-toggleable__control:checked~label.sk-toggleable__label {background-color: #d4ebff;}#sk-container-id-1 input.sk-hidden--visually {border: 0;clip: rect(1px 1px 1px 1px);clip: rect(1px, 1px, 1px, 1px);height: 1px;margin: -1px;overflow: hidden;padding: 0;position: absolute;width: 1px;}#sk-container-id-1 div.sk-estimator {font-family: monospace;background-color: #f0f8ff;border: 1px dotted black;border-radius: 0.25em;box-sizing: border-box;margin-bottom: 0.5em;}#sk-container-id-1 div.sk-estimator:hover {background-color: #d4ebff;}#sk-container-id-1 div.sk-parallel-item::after {content: \"\";width: 100%;border-bottom: 1px solid gray;flex-grow: 1;}#sk-container-id-1 div.sk-label:hover label.sk-toggleable__label {background-color: #d4ebff;}#sk-container-id-1 div.sk-serial::before {content: \"\";position: absolute;border-left: 1px solid gray;box-sizing: border-box;top: 0;bottom: 0;left: 50%;z-index: 0;}#sk-container-id-1 div.sk-serial {display: flex;flex-direction: column;align-items: center;background-color: white;padding-right: 0.2em;padding-left: 0.2em;position: relative;}#sk-container-id-1 div.sk-item {position: relative;z-index: 1;}#sk-container-id-1 div.sk-parallel {display: flex;align-items: stretch;justify-content: center;background-color: white;position: relative;}#sk-container-id-1 div.sk-item::before, #sk-container-id-1 div.sk-parallel-item::before {content: \"\";position: absolute;border-left: 1px solid gray;box-sizing: border-box;top: 0;bottom: 0;left: 50%;z-index: -1;}#sk-container-id-1 div.sk-parallel-item {display: flex;flex-direction: column;z-index: 1;position: relative;background-color: white;}#sk-container-id-1 div.sk-parallel-item:first-child::after {align-self: flex-end;width: 50%;}#sk-container-id-1 div.sk-parallel-item:last-child::after {align-self: flex-start;width: 50%;}#sk-container-id-1 div.sk-parallel-item:only-child::after {width: 0;}#sk-container-id-1 div.sk-dashed-wrapped {border: 1px dashed gray;margin: 0 0.4em 0.5em 0.4em;box-sizing: border-box;padding-bottom: 0.4em;background-color: white;}#sk-container-id-1 div.sk-label label {font-family: monospace;font-weight: bold;display: inline-block;line-height: 1.2em;}#sk-container-id-1 div.sk-label-container {text-align: center;}#sk-container-id-1 div.sk-container {/* jupyter's `normalize.less` sets `[hidden] { display: none; }` but bootstrap.min.css set `[hidden] { display: none !important; }` so we also need the `!important` here to be able to override the default hidden behavior on the sphinx rendered scikit-learn.org. See: https://github.com/scikit-learn/scikit-learn/issues/21755 */display: inline-block !important;position: relative;}#sk-container-id-1 div.sk-text-repr-fallback {display: none;}</style><div id=\"sk-container-id-1\" class=\"sk-top-container\"><div class=\"sk-text-repr-fallback\"><pre>Perceptron()</pre><b>In a Jupyter environment, please rerun this cell to show the HTML representation or trust the notebook. <br />On GitHub, the HTML representation is unable to render, please try loading this page with nbviewer.org.</b></div><div class=\"sk-container\" hidden><div class=\"sk-item\"><div class=\"sk-estimator sk-toggleable\"><input class=\"sk-toggleable__control sk-hidden--visually\" id=\"sk-estimator-id-1\" type=\"checkbox\" checked><label for=\"sk-estimator-id-1\" class=\"sk-toggleable__label sk-toggleable__label-arrow\">Perceptron</label><div class=\"sk-toggleable__content\"><pre>Perceptron()</pre></div></div></div></div></div>"
      ],
      "text/plain": [
       "Perceptron()"
      ]
     },
     "execution_count": 11,
     "metadata": {},
     "output_type": "execute_result"
    }
   ],
   "source": [
    "from sklearn.linear_model import Perceptron\n",
    "from sklearn.metrics import accuracy_score\n",
    "from sklearn.metrics import precision_recall_fscore_support\n",
    "\n",
    "p = Perceptron()\n",
    "p.fit(train_x, train_y)"
   ]
  },
  {
   "cell_type": "code",
   "execution_count": 12,
   "metadata": {},
   "outputs": [
    {
     "name": "stdout",
     "output_type": "stream",
     "text": [
      "0.4695672298079148,0.5073768442110528,0.4877403846153846\n",
      "0.31869031377899043,0.2887515451174289,0.30298313878080413\n",
      "0.31976602485985867,0.32669322709163345,0.3231925113930287\n",
      "0.34948352188883425,0.3581149193548387,0.35374657704754797\n",
      "0.5729518855656697,0.5546324269889225,0.5636433414353332\n",
      "0.4060917951802535,0.40711379255277524,0.40626119065441973\n"
     ]
    }
   ],
   "source": [
    "test_predictions = p.predict(test_x)\n",
    "\n",
    "stats = precision_recall_fscore_support(test_y, test_predictions)\n",
    "\n",
    "precision = stats[0]\n",
    "recall = stats[1]\n",
    "fscore = stats[2]\n",
    "\n",
    "for i in range(5):\n",
    "    print(precision[i], \",\", recall[i], \",\", fscore[i], sep='')\n",
    "print(np.average(precision), \",\" , np.average(recall), \",\" , np.average(fscore), sep='')"
   ]
  }
 ],
 "metadata": {
  "interpreter": {
   "hash": "cd9666d01ba5b26ab1b153d70865606947c378c60a382a34126782654716833c"
  },
  "kernelspec": {
   "display_name": "Python 3.8.12 ('env': venv)",
   "language": "python",
   "name": "python3"
  },
  "language_info": {
   "codemirror_mode": {
    "name": "ipython",
    "version": 3
   },
   "file_extension": ".py",
   "mimetype": "text/x-python",
   "name": "python",
   "nbconvert_exporter": "python",
   "pygments_lexer": "ipython3",
   "version": "3.8.12"
  }
 },
 "nbformat": 4,
 "nbformat_minor": 4
}
